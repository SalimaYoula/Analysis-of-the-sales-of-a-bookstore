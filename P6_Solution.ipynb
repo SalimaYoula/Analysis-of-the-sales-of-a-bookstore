{
 "cells": [
  {
   "cell_type": "code",
   "execution_count": 2,
   "id": "e53678e9",
   "metadata": {},
   "outputs": [],
   "source": [
    "import pandas as pd\n",
    "import numpy as np\n",
    "import matplotlib.pyplot as plt\n",
    "import seaborn as sns"
   ]
  },
  {
   "cell_type": "markdown",
   "id": "2c81ae1d",
   "metadata": {},
   "source": [
    "# Lecture du fichier de données"
   ]
  },
  {
   "cell_type": "code",
   "execution_count": 3,
   "id": "2f272257",
   "metadata": {},
   "outputs": [],
   "source": [
    "product_transaction_customer = pd.read_csv('product_transaction_customer.csv')"
   ]
  },
  {
   "cell_type": "code",
   "execution_count": 3,
   "id": "6f2e90a0",
   "metadata": {},
   "outputs": [
    {
     "name": "stdout",
     "output_type": "stream",
     "text": [
      "<class 'pandas.core.frame.DataFrame'>\n",
      "RangeIndex: 657512 entries, 0 to 657511\n",
      "Data columns (total 9 columns):\n",
      " #   Column      Non-Null Count   Dtype  \n",
      "---  ------      --------------   -----  \n",
      " 0   id_prod     657512 non-null  object \n",
      " 1   date        657512 non-null  object \n",
      " 2   session_id  657512 non-null  object \n",
      " 3   client_id   657512 non-null  object \n",
      " 4   price       657512 non-null  float64\n",
      " 5   categ       657512 non-null  float64\n",
      " 6   StartDate   657512 non-null  object \n",
      " 7   sex         657512 non-null  object \n",
      " 8   birth       657512 non-null  int64  \n",
      "dtypes: float64(2), int64(1), object(6)\n",
      "memory usage: 45.1+ MB\n"
     ]
    }
   ],
   "source": [
    "product_transaction_customer.info()"
   ]
  },
  {
   "cell_type": "code",
   "execution_count": 4,
   "id": "657f851d",
   "metadata": {
    "scrolled": true
   },
   "outputs": [
    {
     "data": {
      "text/html": [
       "<div>\n",
       "<style scoped>\n",
       "    .dataframe tbody tr th:only-of-type {\n",
       "        vertical-align: middle;\n",
       "    }\n",
       "\n",
       "    .dataframe tbody tr th {\n",
       "        vertical-align: top;\n",
       "    }\n",
       "\n",
       "    .dataframe thead th {\n",
       "        text-align: right;\n",
       "    }\n",
       "</style>\n",
       "<table border=\"1\" class=\"dataframe\">\n",
       "  <thead>\n",
       "    <tr style=\"text-align: right;\">\n",
       "      <th></th>\n",
       "      <th>id_prod</th>\n",
       "      <th>date</th>\n",
       "      <th>session_id</th>\n",
       "      <th>client_id</th>\n",
       "      <th>price</th>\n",
       "      <th>categ</th>\n",
       "      <th>StartDate</th>\n",
       "      <th>sex</th>\n",
       "      <th>birth</th>\n",
       "    </tr>\n",
       "  </thead>\n",
       "  <tbody>\n",
       "    <tr>\n",
       "      <th>0</th>\n",
       "      <td>0_1518</td>\n",
       "      <td>2022-05-20</td>\n",
       "      <td>s_211425</td>\n",
       "      <td>c_103</td>\n",
       "      <td>4.18</td>\n",
       "      <td>0.0</td>\n",
       "      <td>2022-05</td>\n",
       "      <td>f</td>\n",
       "      <td>1986</td>\n",
       "    </tr>\n",
       "    <tr>\n",
       "      <th>1</th>\n",
       "      <td>0_1627</td>\n",
       "      <td>2022-06-18</td>\n",
       "      <td>s_225494</td>\n",
       "      <td>c_103</td>\n",
       "      <td>3.99</td>\n",
       "      <td>0.0</td>\n",
       "      <td>2022-06</td>\n",
       "      <td>f</td>\n",
       "      <td>1986</td>\n",
       "    </tr>\n",
       "    <tr>\n",
       "      <th>2</th>\n",
       "      <td>0_1104</td>\n",
       "      <td>2023-02-08</td>\n",
       "      <td>s_338755</td>\n",
       "      <td>c_103</td>\n",
       "      <td>13.21</td>\n",
       "      <td>0.0</td>\n",
       "      <td>2023-02</td>\n",
       "      <td>f</td>\n",
       "      <td>1986</td>\n",
       "    </tr>\n",
       "    <tr>\n",
       "      <th>3</th>\n",
       "      <td>0_1390</td>\n",
       "      <td>2021-04-20</td>\n",
       "      <td>s_23078</td>\n",
       "      <td>c_103</td>\n",
       "      <td>19.37</td>\n",
       "      <td>0.0</td>\n",
       "      <td>2021-04</td>\n",
       "      <td>f</td>\n",
       "      <td>1986</td>\n",
       "    </tr>\n",
       "    <tr>\n",
       "      <th>4</th>\n",
       "      <td>0_1547</td>\n",
       "      <td>2022-03-15</td>\n",
       "      <td>s_179629</td>\n",
       "      <td>c_103</td>\n",
       "      <td>8.99</td>\n",
       "      <td>0.0</td>\n",
       "      <td>2022-03</td>\n",
       "      <td>f</td>\n",
       "      <td>1986</td>\n",
       "    </tr>\n",
       "  </tbody>\n",
       "</table>\n",
       "</div>"
      ],
      "text/plain": [
       "  id_prod        date session_id client_id  price  categ StartDate sex  birth\n",
       "0  0_1518  2022-05-20   s_211425     c_103   4.18    0.0   2022-05   f   1986\n",
       "1  0_1627  2022-06-18   s_225494     c_103   3.99    0.0   2022-06   f   1986\n",
       "2  0_1104  2023-02-08   s_338755     c_103  13.21    0.0   2023-02   f   1986\n",
       "3  0_1390  2021-04-20    s_23078     c_103  19.37    0.0   2021-04   f   1986\n",
       "4  0_1547  2022-03-15   s_179629     c_103   8.99    0.0   2022-03   f   1986"
      ]
     },
     "execution_count": 4,
     "metadata": {},
     "output_type": "execute_result"
    }
   ],
   "source": [
    "product_transaction_customer.head()"
   ]
  },
  {
   "cell_type": "code",
   "execution_count": 5,
   "id": "9c7dda26",
   "metadata": {
    "scrolled": false
   },
   "outputs": [
    {
     "data": {
      "text/plain": [
       "count    657512.000000\n",
       "mean         17.540258\n",
       "std          18.340492\n",
       "min           0.620000\n",
       "25%           8.990000\n",
       "50%          13.990000\n",
       "75%          19.080000\n",
       "max         300.000000\n",
       "Name: price, dtype: float64"
      ]
     },
     "execution_count": 5,
     "metadata": {},
     "output_type": "execute_result"
    }
   ],
   "source": [
    "product_transaction_customer.price.describe(include='all')"
   ]
  },
  {
   "cell_type": "markdown",
   "id": "94ff156a",
   "metadata": {},
   "source": [
    "Calcul de la moyenne, la variance, la median pour toutes les categories"
   ]
  },
  {
   "cell_type": "code",
   "execution_count": 6,
   "id": "949e5da8",
   "metadata": {},
   "outputs": [
    {
     "name": "stdout",
     "output_type": "stream",
     "text": [
      "--------------------\n",
      "0.0\n",
      "moy:\n",
      " 17.540257729225697\n",
      "med:\n",
      " 13.99\n",
      "mod:\n",
      " 0    15.99\n",
      "dtype: float64\n",
      "var:\n",
      " 336.3731469942944\n",
      "ect:\n",
      " 18.340478374194454\n",
      "--------------------\n",
      "1.0\n",
      "moy:\n",
      " 17.540257729225697\n",
      "med:\n",
      " 13.99\n",
      "mod:\n",
      " 0    15.99\n",
      "dtype: float64\n",
      "var:\n",
      " 336.3731469942944\n",
      "ect:\n",
      " 18.340478374194454\n",
      "--------------------\n",
      "2.0\n",
      "moy:\n",
      " 17.540257729225697\n",
      "med:\n",
      " 13.99\n",
      "mod:\n",
      " 0    15.99\n",
      "dtype: float64\n",
      "var:\n",
      " 336.3731469942944\n",
      "ect:\n",
      " 18.340478374194454\n"
     ]
    }
   ],
   "source": [
    "for cat in product_transaction_customer[\"categ\"].unique():\n",
    "    subset = product_transaction_customer['price']\n",
    "    print(\"-\"*20)\n",
    "    print(cat)\n",
    "    print(\"moy:\\n\",product_transaction_customer['price'].mean())\n",
    "    print(\"med:\\n\",product_transaction_customer['price'].median())\n",
    "    print(\"mod:\\n\",product_transaction_customer['price'].mode())\n",
    "    print(\"var:\\n\",product_transaction_customer['price'].var(ddof=0))\n",
    "    print(\"ect:\\n\",product_transaction_customer['price'].std(ddof=0))"
   ]
  },
  {
   "cell_type": "markdown",
   "id": "b70e1a9b",
   "metadata": {},
   "source": [
    "1. Les indicateurs autour du CA"
   ]
  },
  {
   "cell_type": "markdown",
   "id": "3327c3b1",
   "metadata": {},
   "source": [
    "    Le chiffre d'affaire par categorie"
   ]
  },
  {
   "cell_type": "code",
   "execution_count": 7,
   "id": "dd0af8fa",
   "metadata": {},
   "outputs": [],
   "source": [
    "groupbycateg = product_transaction_customer.groupby('categ',as_index=False).sum()"
   ]
  },
  {
   "cell_type": "code",
   "execution_count": 8,
   "id": "3e9a9704",
   "metadata": {
    "scrolled": true
   },
   "outputs": [
    {
     "data": {
      "text/html": [
       "<div>\n",
       "<style scoped>\n",
       "    .dataframe tbody tr th:only-of-type {\n",
       "        vertical-align: middle;\n",
       "    }\n",
       "\n",
       "    .dataframe tbody tr th {\n",
       "        vertical-align: top;\n",
       "    }\n",
       "\n",
       "    .dataframe thead th {\n",
       "        text-align: right;\n",
       "    }\n",
       "</style>\n",
       "<table border=\"1\" class=\"dataframe\">\n",
       "  <thead>\n",
       "    <tr style=\"text-align: right;\">\n",
       "      <th></th>\n",
       "      <th>categ</th>\n",
       "      <th>price</th>\n",
       "      <th>birth</th>\n",
       "    </tr>\n",
       "  </thead>\n",
       "  <tbody>\n",
       "    <tr>\n",
       "      <th>0</th>\n",
       "      <td>0.0</td>\n",
       "      <td>4.220480e+06</td>\n",
       "      <td>784705241</td>\n",
       "    </tr>\n",
       "    <tr>\n",
       "      <th>1</th>\n",
       "      <td>1.0</td>\n",
       "      <td>4.619960e+06</td>\n",
       "      <td>445221766</td>\n",
       "    </tr>\n",
       "    <tr>\n",
       "      <th>2</th>\n",
       "      <td>2.0</td>\n",
       "      <td>2.692489e+06</td>\n",
       "      <td>70484821</td>\n",
       "    </tr>\n",
       "  </tbody>\n",
       "</table>\n",
       "</div>"
      ],
      "text/plain": [
       "   categ         price      birth\n",
       "0    0.0  4.220480e+06  784705241\n",
       "1    1.0  4.619960e+06  445221766\n",
       "2    2.0  2.692489e+06   70484821"
      ]
     },
     "execution_count": 8,
     "metadata": {},
     "output_type": "execute_result"
    }
   ],
   "source": [
    "groupbycateg"
   ]
  },
  {
   "cell_type": "markdown",
   "id": "c9859122",
   "metadata": {},
   "source": [
    "Representation graphique du chiffre "
   ]
  },
  {
   "cell_type": "code",
   "execution_count": 9,
   "id": "51f9c172",
   "metadata": {
    "scrolled": true
   },
   "outputs": [
    {
     "data": {
      "image/png": "[encoded data removed]",
      "text/plain": [
       "<Figure size 432x288 with 1 Axes>"
      ]
     },
     "metadata": {},
     "output_type": "display_data"
    }
   ],
   "source": [
    "# La palette de couleur Seaborn pour pie chart\n",
    "colors = sns.color_palette('pastel')\n",
    "# creation du graphe\n",
    "plt.pie(groupbycateg.price, labels=groupbycateg.categ, colors=colors)\n",
    "plt.show()"
   ]
  },
  {
   "cell_type": "markdown",
   "id": "2f33b531",
   "metadata": {},
   "source": [
    "    Le chiffre d'affaire par sexe"
   ]
  },
  {
   "cell_type": "code",
   "execution_count": 10,
   "id": "9434d488",
   "metadata": {},
   "outputs": [],
   "source": [
    "groupbysexe = product_transaction_customer.groupby('sex',as_index=False).sum()"
   ]
  },
  {
   "cell_type": "code",
   "execution_count": 11,
   "id": "7a4e3a96",
   "metadata": {
    "scrolled": true
   },
   "outputs": [
    {
     "data": {
      "image/png": "[encoded data removed]",
      "text/plain": [
       "<Figure size 432x288 with 1 Axes>"
      ]
     },
     "metadata": {
      "needs_background": "light"
     },
     "output_type": "display_data"
    }
   ],
   "source": [
    "# Create bars\n",
    "plt.bar(groupbysexe.sex, groupbysexe.price)\n",
    "# Show graphic\n",
    "plt.show()"
   ]
  },
  {
   "cell_type": "markdown",
   "id": "bdc39fe5",
   "metadata": {},
   "source": [
    "    Le chiffre d'affaire par sexe et par categorie"
   ]
  },
  {
   "cell_type": "code",
   "execution_count": 12,
   "id": "c666febd",
   "metadata": {},
   "outputs": [
    {
     "data": {
      "text/html": [
       "<div>\n",
       "<style scoped>\n",
       "    .dataframe tbody tr th:only-of-type {\n",
       "        vertical-align: middle;\n",
       "    }\n",
       "\n",
       "    .dataframe tbody tr th {\n",
       "        vertical-align: top;\n",
       "    }\n",
       "\n",
       "    .dataframe thead th {\n",
       "        text-align: right;\n",
       "    }\n",
       "</style>\n",
       "<table border=\"1\" class=\"dataframe\">\n",
       "  <thead>\n",
       "    <tr style=\"text-align: right;\">\n",
       "      <th></th>\n",
       "      <th>sex</th>\n",
       "      <th>categ</th>\n",
       "      <th>price</th>\n",
       "      <th>birth</th>\n",
       "    </tr>\n",
       "  </thead>\n",
       "  <tbody>\n",
       "    <tr>\n",
       "      <th>0</th>\n",
       "      <td>f</td>\n",
       "      <td>0.0</td>\n",
       "      <td>2.093117e+06</td>\n",
       "      <td>389587281</td>\n",
       "    </tr>\n",
       "    <tr>\n",
       "      <th>1</th>\n",
       "      <td>f</td>\n",
       "      <td>1.0</td>\n",
       "      <td>2.341981e+06</td>\n",
       "      <td>225166656</td>\n",
       "    </tr>\n",
       "    <tr>\n",
       "      <th>2</th>\n",
       "      <td>f</td>\n",
       "      <td>2.0</td>\n",
       "      <td>1.269296e+06</td>\n",
       "      <td>33367431</td>\n",
       "    </tr>\n",
       "    <tr>\n",
       "      <th>3</th>\n",
       "      <td>m</td>\n",
       "      <td>0.0</td>\n",
       "      <td>2.127363e+06</td>\n",
       "      <td>395117960</td>\n",
       "    </tr>\n",
       "    <tr>\n",
       "      <th>4</th>\n",
       "      <td>m</td>\n",
       "      <td>1.0</td>\n",
       "      <td>2.277979e+06</td>\n",
       "      <td>220055110</td>\n",
       "    </tr>\n",
       "    <tr>\n",
       "      <th>5</th>\n",
       "      <td>m</td>\n",
       "      <td>2.0</td>\n",
       "      <td>1.423193e+06</td>\n",
       "      <td>37117390</td>\n",
       "    </tr>\n",
       "  </tbody>\n",
       "</table>\n",
       "</div>"
      ],
      "text/plain": [
       "  sex  categ         price      birth\n",
       "0   f    0.0  2.093117e+06  389587281\n",
       "1   f    1.0  2.341981e+06  225166656\n",
       "2   f    2.0  1.269296e+06   33367431\n",
       "3   m    0.0  2.127363e+06  395117960\n",
       "4   m    1.0  2.277979e+06  220055110\n",
       "5   m    2.0  1.423193e+06   37117390"
      ]
     },
     "execution_count": 12,
     "metadata": {},
     "output_type": "execute_result"
    }
   ],
   "source": [
    "groupbysexcateg = product_transaction_customer.groupby(['sex','categ'],as_index=False).sum()\n",
    "groupbysexcateg"
   ]
  },
  {
   "cell_type": "code",
   "execution_count": 13,
   "id": "8f147728",
   "metadata": {},
   "outputs": [
    {
     "data": {
      "image/png": "[encoded data removed]",
      "text/plain": [
       "<Figure size 432x288 with 1 Axes>"
      ]
     },
     "metadata": {
      "needs_background": "light"
     },
     "output_type": "display_data"
    }
   ],
   "source": [
    "fig, ax = plt.subplots()\n",
    "\n",
    "sns.barplot(ax = ax, data = groupbysexcateg, x = 'sex', y = 'price', hue = 'categ')\n",
    "\n",
    "plt.show()"
   ]
  },
  {
   "cell_type": "markdown",
   "id": "cb88c8b7",
   "metadata": {},
   "source": [
    "La representation du CA dans le temps"
   ]
  },
  {
   "cell_type": "code",
   "execution_count": 14,
   "id": "23dfd4fd",
   "metadata": {
    "scrolled": false
   },
   "outputs": [
    {
     "data": {
      "text/html": [
       "<div>\n",
       "<style scoped>\n",
       "    .dataframe tbody tr th:only-of-type {\n",
       "        vertical-align: middle;\n",
       "    }\n",
       "\n",
       "    .dataframe tbody tr th {\n",
       "        vertical-align: top;\n",
       "    }\n",
       "\n",
       "    .dataframe thead th {\n",
       "        text-align: right;\n",
       "    }\n",
       "</style>\n",
       "<table border=\"1\" class=\"dataframe\">\n",
       "  <thead>\n",
       "    <tr style=\"text-align: right;\">\n",
       "      <th></th>\n",
       "      <th>StartDate</th>\n",
       "      <th>price</th>\n",
       "    </tr>\n",
       "  </thead>\n",
       "  <tbody>\n",
       "    <tr>\n",
       "      <th>0</th>\n",
       "      <td>2021-03</td>\n",
       "      <td>482440.61</td>\n",
       "    </tr>\n",
       "    <tr>\n",
       "      <th>1</th>\n",
       "      <td>2021-04</td>\n",
       "      <td>476109.30</td>\n",
       "    </tr>\n",
       "    <tr>\n",
       "      <th>2</th>\n",
       "      <td>2021-05</td>\n",
       "      <td>492943.47</td>\n",
       "    </tr>\n",
       "    <tr>\n",
       "      <th>3</th>\n",
       "      <td>2021-06</td>\n",
       "      <td>484088.56</td>\n",
       "    </tr>\n",
       "    <tr>\n",
       "      <th>4</th>\n",
       "      <td>2021-07</td>\n",
       "      <td>482835.40</td>\n",
       "    </tr>\n",
       "    <tr>\n",
       "      <th>5</th>\n",
       "      <td>2021-08</td>\n",
       "      <td>482284.79</td>\n",
       "    </tr>\n",
       "    <tr>\n",
       "      <th>6</th>\n",
       "      <td>2021-09</td>\n",
       "      <td>507240.68</td>\n",
       "    </tr>\n",
       "    <tr>\n",
       "      <th>7</th>\n",
       "      <td>2021-11</td>\n",
       "      <td>516167.73</td>\n",
       "    </tr>\n",
       "    <tr>\n",
       "      <th>8</th>\n",
       "      <td>2021-12</td>\n",
       "      <td>525917.28</td>\n",
       "    </tr>\n",
       "    <tr>\n",
       "      <th>9</th>\n",
       "      <td>2022-01</td>\n",
       "      <td>525338.99</td>\n",
       "    </tr>\n",
       "    <tr>\n",
       "      <th>10</th>\n",
       "      <td>2022-02</td>\n",
       "      <td>535571.50</td>\n",
       "    </tr>\n",
       "    <tr>\n",
       "      <th>11</th>\n",
       "      <td>2022-03</td>\n",
       "      <td>515456.53</td>\n",
       "    </tr>\n",
       "    <tr>\n",
       "      <th>12</th>\n",
       "      <td>2022-04</td>\n",
       "      <td>492998.94</td>\n",
       "    </tr>\n",
       "    <tr>\n",
       "      <th>13</th>\n",
       "      <td>2022-05</td>\n",
       "      <td>517132.60</td>\n",
       "    </tr>\n",
       "    <tr>\n",
       "      <th>14</th>\n",
       "      <td>2022-06</td>\n",
       "      <td>496016.12</td>\n",
       "    </tr>\n",
       "    <tr>\n",
       "      <th>15</th>\n",
       "      <td>2022-07</td>\n",
       "      <td>510783.12</td>\n",
       "    </tr>\n",
       "    <tr>\n",
       "      <th>16</th>\n",
       "      <td>2022-08</td>\n",
       "      <td>506467.27</td>\n",
       "    </tr>\n",
       "    <tr>\n",
       "      <th>17</th>\n",
       "      <td>2022-09</td>\n",
       "      <td>494114.53</td>\n",
       "    </tr>\n",
       "    <tr>\n",
       "      <th>18</th>\n",
       "      <td>2022-10</td>\n",
       "      <td>507917.77</td>\n",
       "    </tr>\n",
       "    <tr>\n",
       "      <th>19</th>\n",
       "      <td>2022-11</td>\n",
       "      <td>496664.94</td>\n",
       "    </tr>\n",
       "    <tr>\n",
       "      <th>20</th>\n",
       "      <td>2022-12</td>\n",
       "      <td>510219.50</td>\n",
       "    </tr>\n",
       "    <tr>\n",
       "      <th>21</th>\n",
       "      <td>2023-01</td>\n",
       "      <td>517540.55</td>\n",
       "    </tr>\n",
       "    <tr>\n",
       "      <th>22</th>\n",
       "      <td>2023-02</td>\n",
       "      <td>456679.76</td>\n",
       "    </tr>\n",
       "  </tbody>\n",
       "</table>\n",
       "</div>"
      ],
      "text/plain": [
       "   StartDate      price\n",
       "0    2021-03  482440.61\n",
       "1    2021-04  476109.30\n",
       "2    2021-05  492943.47\n",
       "3    2021-06  484088.56\n",
       "4    2021-07  482835.40\n",
       "5    2021-08  482284.79\n",
       "6    2021-09  507240.68\n",
       "7    2021-11  516167.73\n",
       "8    2021-12  525917.28\n",
       "9    2022-01  525338.99\n",
       "10   2022-02  535571.50\n",
       "11   2022-03  515456.53\n",
       "12   2022-04  492998.94\n",
       "13   2022-05  517132.60\n",
       "14   2022-06  496016.12\n",
       "15   2022-07  510783.12\n",
       "16   2022-08  506467.27\n",
       "17   2022-09  494114.53\n",
       "18   2022-10  507917.77\n",
       "19   2022-11  496664.94\n",
       "20   2022-12  510219.50\n",
       "21   2023-01  517540.55\n",
       "22   2023-02  456679.76"
      ]
     },
     "execution_count": 14,
     "metadata": {},
     "output_type": "execute_result"
    }
   ],
   "source": [
    "groupDateCategPrice = product_transaction_customer.groupby(['StartDate'])['price'].sum().reset_index()\n",
    "groupDateCategPrice"
   ]
  },
  {
   "cell_type": "code",
   "execution_count": 16,
   "id": "0f7a22e2",
   "metadata": {
    "scrolled": false
   },
   "outputs": [
    {
     "data": {
      "image/png": "[encoded data removed]",
      "text/plain": [
       "<Figure size 1008x1008 with 1 Axes>"
      ]
     },
     "metadata": {},
     "output_type": "display_data"
    }
   ],
   "source": [
    "sns.set(style=\"darkgrid\")\n",
    "plt.figure(figsize=(14, 14))\n",
    "plt.title('Le Chiffre d ''affaire mensuel')\n",
    "plt.xlabel('Le Mois')\n",
    "plt.ylabel('Le chiffre d''affaire')\n",
    "sns.barplot(x=\"StartDate\",  y=\"price\", data=groupDateCategPrice, color='darkblue')\n",
    "plt.xlabel('Le Mois')\n",
    "plt.ylabel('Le chiffre d''affaire')\n",
    "plt.show()\n"
   ]
  },
  {
   "cell_type": "code",
   "execution_count": 20,
   "id": "3a05246e",
   "metadata": {
    "scrolled": false
   },
   "outputs": [
    {
     "data": {
      "text/html": [
       "<div>\n",
       "<style scoped>\n",
       "    .dataframe tbody tr th:only-of-type {\n",
       "        vertical-align: middle;\n",
       "    }\n",
       "\n",
       "    .dataframe tbody tr th {\n",
       "        vertical-align: top;\n",
       "    }\n",
       "\n",
       "    .dataframe thead th {\n",
       "        text-align: right;\n",
       "    }\n",
       "</style>\n",
       "<table border=\"1\" class=\"dataframe\">\n",
       "  <thead>\n",
       "    <tr style=\"text-align: right;\">\n",
       "      <th></th>\n",
       "      <th>StartDate</th>\n",
       "      <th>categ</th>\n",
       "      <th>price</th>\n",
       "    </tr>\n",
       "  </thead>\n",
       "  <tbody>\n",
       "    <tr>\n",
       "      <th>0</th>\n",
       "      <td>2021-03</td>\n",
       "      <td>0.0</td>\n",
       "      <td>193629.17</td>\n",
       "    </tr>\n",
       "    <tr>\n",
       "      <th>1</th>\n",
       "      <td>2021-03</td>\n",
       "      <td>1.0</td>\n",
       "      <td>186974.17</td>\n",
       "    </tr>\n",
       "    <tr>\n",
       "      <th>2</th>\n",
       "      <td>2021-03</td>\n",
       "      <td>2.0</td>\n",
       "      <td>101837.27</td>\n",
       "    </tr>\n",
       "    <tr>\n",
       "      <th>3</th>\n",
       "      <td>2021-04</td>\n",
       "      <td>0.0</td>\n",
       "      <td>205222.46</td>\n",
       "    </tr>\n",
       "    <tr>\n",
       "      <th>4</th>\n",
       "      <td>2021-04</td>\n",
       "      <td>1.0</td>\n",
       "      <td>156138.35</td>\n",
       "    </tr>\n",
       "    <tr>\n",
       "      <th>...</th>\n",
       "      <td>...</td>\n",
       "      <td>...</td>\n",
       "      <td>...</td>\n",
       "    </tr>\n",
       "    <tr>\n",
       "      <th>64</th>\n",
       "      <td>2023-01</td>\n",
       "      <td>1.0</td>\n",
       "      <td>210104.41</td>\n",
       "    </tr>\n",
       "    <tr>\n",
       "      <th>65</th>\n",
       "      <td>2023-01</td>\n",
       "      <td>2.0</td>\n",
       "      <td>126153.08</td>\n",
       "    </tr>\n",
       "    <tr>\n",
       "      <th>66</th>\n",
       "      <td>2023-02</td>\n",
       "      <td>0.0</td>\n",
       "      <td>162457.00</td>\n",
       "    </tr>\n",
       "    <tr>\n",
       "      <th>67</th>\n",
       "      <td>2023-02</td>\n",
       "      <td>1.0</td>\n",
       "      <td>180347.24</td>\n",
       "    </tr>\n",
       "    <tr>\n",
       "      <th>68</th>\n",
       "      <td>2023-02</td>\n",
       "      <td>2.0</td>\n",
       "      <td>113875.52</td>\n",
       "    </tr>\n",
       "  </tbody>\n",
       "</table>\n",
       "<p>69 rows × 3 columns</p>\n",
       "</div>"
      ],
      "text/plain": [
       "   StartDate  categ      price\n",
       "0    2021-03    0.0  193629.17\n",
       "1    2021-03    1.0  186974.17\n",
       "2    2021-03    2.0  101837.27\n",
       "3    2021-04    0.0  205222.46\n",
       "4    2021-04    1.0  156138.35\n",
       "..       ...    ...        ...\n",
       "64   2023-01    1.0  210104.41\n",
       "65   2023-01    2.0  126153.08\n",
       "66   2023-02    0.0  162457.00\n",
       "67   2023-02    1.0  180347.24\n",
       "68   2023-02    2.0  113875.52\n",
       "\n",
       "[69 rows x 3 columns]"
      ]
     },
     "execution_count": 20,
     "metadata": {},
     "output_type": "execute_result"
    }
   ],
   "source": [
    "categ = product_transaction_customer.groupby(['StartDate','categ'])['price'].sum().reset_index()\n",
    "categ"
   ]
  },
  {
   "cell_type": "code",
   "execution_count": 21,
   "id": "2d8ddaf9",
   "metadata": {},
   "outputs": [],
   "source": [
    "dataCate0 = categ.loc[categ['categ']==0.0]\n",
    "dataCate1 = categ.loc[categ['categ']==1.0]\n",
    "dataCate2 = categ.loc[categ['categ']==2.0]\n"
   ]
  },
  {
   "cell_type": "code",
   "execution_count": 30,
   "id": "bda57ae7",
   "metadata": {
    "scrolled": false
   },
   "outputs": [
    {
     "data": {
      "image/png": "[encoded data removed]",
      "text/plain": [
       "<Figure size 1080x432 with 1 Axes>"
      ]
     },
     "metadata": {},
     "output_type": "display_data"
    }
   ],
   "source": [
    "ax = dataCate0.plot(figsize=(15, 6))\n",
    "ax1 = dataCate1.plot(ax=ax, figsize=(15, 6))\n",
    "dataCate2.plot(ax=ax1, figsize=(15, 6))\n",
    "plt.show()"
   ]
  },
  {
   "cell_type": "code",
   "execution_count": 31,
   "id": "7fbf0157",
   "metadata": {},
   "outputs": [],
   "source": [
    "product_transaction_customer.date = pd.to_datetime(product_transaction_customer.date)"
   ]
  },
  {
   "cell_type": "code",
   "execution_count": 32,
   "id": "ca901f0d",
   "metadata": {},
   "outputs": [
    {
     "data": {
      "text/html": [
       "<div>\n",
       "<style scoped>\n",
       "    .dataframe tbody tr th:only-of-type {\n",
       "        vertical-align: middle;\n",
       "    }\n",
       "\n",
       "    .dataframe tbody tr th {\n",
       "        vertical-align: top;\n",
       "    }\n",
       "\n",
       "    .dataframe thead th {\n",
       "        text-align: right;\n",
       "    }\n",
       "</style>\n",
       "<table border=\"1\" class=\"dataframe\">\n",
       "  <thead>\n",
       "    <tr style=\"text-align: right;\">\n",
       "      <th></th>\n",
       "      <th></th>\n",
       "      <th></th>\n",
       "      <th>price</th>\n",
       "      <th>categ</th>\n",
       "      <th>birth</th>\n",
       "    </tr>\n",
       "    <tr>\n",
       "      <th>categ</th>\n",
       "      <th>date</th>\n",
       "      <th>date</th>\n",
       "      <th></th>\n",
       "      <th></th>\n",
       "      <th></th>\n",
       "    </tr>\n",
       "  </thead>\n",
       "  <tbody>\n",
       "    <tr>\n",
       "      <th rowspan=\"5\" valign=\"top\">0.0</th>\n",
       "      <th>2021-03-01</th>\n",
       "      <th>2021-03-01</th>\n",
       "      <td>10.779088</td>\n",
       "      <td>0.0</td>\n",
       "      <td>1977.931153</td>\n",
       "    </tr>\n",
       "    <tr>\n",
       "      <th>2021-03-02</th>\n",
       "      <th>2021-03-01</th>\n",
       "      <td>10.835919</td>\n",
       "      <td>0.0</td>\n",
       "      <td>1978.188710</td>\n",
       "    </tr>\n",
       "    <tr>\n",
       "      <th>2021-03-03</th>\n",
       "      <th>2021-03-01</th>\n",
       "      <td>10.357073</td>\n",
       "      <td>0.0</td>\n",
       "      <td>1977.818951</td>\n",
       "    </tr>\n",
       "    <tr>\n",
       "      <th>2021-03-04</th>\n",
       "      <th>2021-03-01</th>\n",
       "      <td>10.464440</td>\n",
       "      <td>0.0</td>\n",
       "      <td>1977.287744</td>\n",
       "    </tr>\n",
       "    <tr>\n",
       "      <th>2021-03-05</th>\n",
       "      <th>2021-03-01</th>\n",
       "      <td>10.652353</td>\n",
       "      <td>0.0</td>\n",
       "      <td>1978.554367</td>\n",
       "    </tr>\n",
       "    <tr>\n",
       "      <th>...</th>\n",
       "      <th>...</th>\n",
       "      <th>...</th>\n",
       "      <td>...</td>\n",
       "      <td>...</td>\n",
       "      <td>...</td>\n",
       "    </tr>\n",
       "    <tr>\n",
       "      <th rowspan=\"5\" valign=\"top\">2.0</th>\n",
       "      <th>2023-02-24</th>\n",
       "      <th>2023-02-01</th>\n",
       "      <td>75.295745</td>\n",
       "      <td>2.0</td>\n",
       "      <td>1995.425532</td>\n",
       "    </tr>\n",
       "    <tr>\n",
       "      <th>2023-02-25</th>\n",
       "      <th>2023-02-01</th>\n",
       "      <td>60.172826</td>\n",
       "      <td>2.0</td>\n",
       "      <td>1994.869565</td>\n",
       "    </tr>\n",
       "    <tr>\n",
       "      <th>2023-02-26</th>\n",
       "      <th>2023-02-01</th>\n",
       "      <td>71.183585</td>\n",
       "      <td>2.0</td>\n",
       "      <td>1994.679245</td>\n",
       "    </tr>\n",
       "    <tr>\n",
       "      <th>2023-02-27</th>\n",
       "      <th>2023-02-01</th>\n",
       "      <td>70.288267</td>\n",
       "      <td>2.0</td>\n",
       "      <td>1997.666667</td>\n",
       "    </tr>\n",
       "    <tr>\n",
       "      <th>2023-02-28</th>\n",
       "      <th>2023-02-01</th>\n",
       "      <td>79.540800</td>\n",
       "      <td>2.0</td>\n",
       "      <td>1997.920000</td>\n",
       "    </tr>\n",
       "  </tbody>\n",
       "</table>\n",
       "<p>2097 rows × 3 columns</p>\n",
       "</div>"
      ],
      "text/plain": [
       "                                 price  categ        birth\n",
       "categ date       date                                     \n",
       "0.0   2021-03-01 2021-03-01  10.779088    0.0  1977.931153\n",
       "      2021-03-02 2021-03-01  10.835919    0.0  1978.188710\n",
       "      2021-03-03 2021-03-01  10.357073    0.0  1977.818951\n",
       "      2021-03-04 2021-03-01  10.464440    0.0  1977.287744\n",
       "      2021-03-05 2021-03-01  10.652353    0.0  1978.554367\n",
       "...                                ...    ...          ...\n",
       "2.0   2023-02-24 2023-02-01  75.295745    2.0  1995.425532\n",
       "      2023-02-25 2023-02-01  60.172826    2.0  1994.869565\n",
       "      2023-02-26 2023-02-01  71.183585    2.0  1994.679245\n",
       "      2023-02-27 2023-02-01  70.288267    2.0  1997.666667\n",
       "      2023-02-28 2023-02-01  79.540800    2.0  1997.920000\n",
       "\n",
       "[2097 rows x 3 columns]"
      ]
     },
     "execution_count": 32,
     "metadata": {},
     "output_type": "execute_result"
    }
   ],
   "source": [
    "Monthly_summary = product_transaction_customer.groupby(['categ','date']).resample('MS', on='date').mean()\n",
    "Monthly_summary"
   ]
  },
  {
   "cell_type": "code",
   "execution_count": 33,
   "id": "f428c777",
   "metadata": {},
   "outputs": [],
   "source": [
    "pp = product_transaction_customer.groupby(['date','categ'])['price'].sum().reset_index()"
   ]
  },
  {
   "cell_type": "code",
   "execution_count": 34,
   "id": "b7c2cbf5",
   "metadata": {},
   "outputs": [
    {
     "data": {
      "text/html": [
       "<div>\n",
       "<style scoped>\n",
       "    .dataframe tbody tr th:only-of-type {\n",
       "        vertical-align: middle;\n",
       "    }\n",
       "\n",
       "    .dataframe tbody tr th {\n",
       "        vertical-align: top;\n",
       "    }\n",
       "\n",
       "    .dataframe thead th {\n",
       "        text-align: right;\n",
       "    }\n",
       "</style>\n",
       "<table border=\"1\" class=\"dataframe\">\n",
       "  <thead>\n",
       "    <tr style=\"text-align: right;\">\n",
       "      <th></th>\n",
       "      <th>level_0</th>\n",
       "      <th>date</th>\n",
       "      <th>categ</th>\n",
       "      <th>price</th>\n",
       "    </tr>\n",
       "  </thead>\n",
       "  <tbody>\n",
       "    <tr>\n",
       "      <th>0</th>\n",
       "      <td>0</td>\n",
       "      <td>2021-03-01</td>\n",
       "      <td>0.0</td>\n",
       "      <td>6246.102258</td>\n",
       "    </tr>\n",
       "    <tr>\n",
       "      <th>1</th>\n",
       "      <td>0</td>\n",
       "      <td>2021-04-01</td>\n",
       "      <td>0.0</td>\n",
       "      <td>6840.748667</td>\n",
       "    </tr>\n",
       "    <tr>\n",
       "      <th>2</th>\n",
       "      <td>0</td>\n",
       "      <td>2021-05-01</td>\n",
       "      <td>0.0</td>\n",
       "      <td>6328.603871</td>\n",
       "    </tr>\n",
       "    <tr>\n",
       "      <th>3</th>\n",
       "      <td>0</td>\n",
       "      <td>2021-06-01</td>\n",
       "      <td>0.0</td>\n",
       "      <td>5598.105000</td>\n",
       "    </tr>\n",
       "    <tr>\n",
       "      <th>4</th>\n",
       "      <td>0</td>\n",
       "      <td>2021-07-01</td>\n",
       "      <td>0.0</td>\n",
       "      <td>4669.380323</td>\n",
       "    </tr>\n",
       "    <tr>\n",
       "      <th>...</th>\n",
       "      <td>...</td>\n",
       "      <td>...</td>\n",
       "      <td>...</td>\n",
       "      <td>...</td>\n",
       "    </tr>\n",
       "    <tr>\n",
       "      <th>67</th>\n",
       "      <td>2</td>\n",
       "      <td>2022-10-01</td>\n",
       "      <td>2.0</td>\n",
       "      <td>3899.320645</td>\n",
       "    </tr>\n",
       "    <tr>\n",
       "      <th>68</th>\n",
       "      <td>2</td>\n",
       "      <td>2022-11-01</td>\n",
       "      <td>2.0</td>\n",
       "      <td>3721.420000</td>\n",
       "    </tr>\n",
       "    <tr>\n",
       "      <th>69</th>\n",
       "      <td>2</td>\n",
       "      <td>2022-12-01</td>\n",
       "      <td>2.0</td>\n",
       "      <td>3993.648065</td>\n",
       "    </tr>\n",
       "    <tr>\n",
       "      <th>70</th>\n",
       "      <td>2</td>\n",
       "      <td>2023-01-01</td>\n",
       "      <td>2.0</td>\n",
       "      <td>4069.454194</td>\n",
       "    </tr>\n",
       "    <tr>\n",
       "      <th>71</th>\n",
       "      <td>2</td>\n",
       "      <td>2023-02-01</td>\n",
       "      <td>2.0</td>\n",
       "      <td>4066.982857</td>\n",
       "    </tr>\n",
       "  </tbody>\n",
       "</table>\n",
       "<p>72 rows × 4 columns</p>\n",
       "</div>"
      ],
      "text/plain": [
       "    level_0       date  categ        price\n",
       "0         0 2021-03-01    0.0  6246.102258\n",
       "1         0 2021-04-01    0.0  6840.748667\n",
       "2         0 2021-05-01    0.0  6328.603871\n",
       "3         0 2021-06-01    0.0  5598.105000\n",
       "4         0 2021-07-01    0.0  4669.380323\n",
       "..      ...        ...    ...          ...\n",
       "67        2 2022-10-01    2.0  3899.320645\n",
       "68        2 2022-11-01    2.0  3721.420000\n",
       "69        2 2022-12-01    2.0  3993.648065\n",
       "70        2 2023-01-01    2.0  4069.454194\n",
       "71        2 2023-02-01    2.0  4066.982857\n",
       "\n",
       "[72 rows x 4 columns]"
      ]
     },
     "execution_count": 34,
     "metadata": {},
     "output_type": "execute_result"
    }
   ],
   "source": [
    "Monthly_summar = pp.groupby(['categ'],as_index= False).resample('MS', on='date').mean().reset_index()\n",
    "Monthly_summar"
   ]
  },
  {
   "cell_type": "markdown",
   "id": "8c2b3422",
   "metadata": {},
   "source": [
    "La moyenne mobile"
   ]
  },
  {
   "cell_type": "code",
   "execution_count": 35,
   "id": "3dbb4947",
   "metadata": {},
   "outputs": [],
   "source": [
    "y0 = Monthly_summar.loc[Monthly_summar['categ']==0.0]\n",
    "y1 = Monthly_summar.loc[Monthly_summar['categ']==1.0]\n",
    "y2 = Monthly_summar.loc[Monthly_summar['categ']==2.0]"
   ]
  },
  {
   "cell_type": "code",
   "execution_count": 36,
   "id": "dec10261",
   "metadata": {
    "scrolled": false
   },
   "outputs": [
    {
     "data": {
      "image/png": "[encoded data removed]",
      "text/plain": [
       "<Figure size 432x288 with 1 Axes>"
      ]
     },
     "metadata": {},
     "output_type": "display_data"
    }
   ],
   "source": [
    "ax = y0.plot(x='date', y='price')\n",
    "ax1 = y1.plot(ax=ax, x='date', y='price')\n",
    "y2.plot(ax=ax1, x='date', y='price')\n",
    "plt.xlabel('La date')\n",
    "plt.ylabel('Chiffre d''affaire')\n",
    "plt.show()"
   ]
  },
  {
   "cell_type": "markdown",
   "id": "092d0f2a",
   "metadata": {},
   "source": [
    "Les tops et les flops"
   ]
  },
  {
   "cell_type": "markdown",
   "id": "45cb62ac",
   "metadata": {},
   "source": [
    "    Ajout de la colonne Age"
   ]
  },
  {
   "cell_type": "code",
   "execution_count": 5,
   "id": "7de7f45d",
   "metadata": {},
   "outputs": [
    {
     "data": {
      "text/html": [
       "<div>\n",
       "<style scoped>\n",
       "    .dataframe tbody tr th:only-of-type {\n",
       "        vertical-align: middle;\n",
       "    }\n",
       "\n",
       "    .dataframe tbody tr th {\n",
       "        vertical-align: top;\n",
       "    }\n",
       "\n",
       "    .dataframe thead th {\n",
       "        text-align: right;\n",
       "    }\n",
       "</style>\n",
       "<table border=\"1\" class=\"dataframe\">\n",
       "  <thead>\n",
       "    <tr style=\"text-align: right;\">\n",
       "      <th></th>\n",
       "      <th>id_prod</th>\n",
       "      <th>date</th>\n",
       "      <th>session_id</th>\n",
       "      <th>client_id</th>\n",
       "      <th>price</th>\n",
       "      <th>categ</th>\n",
       "      <th>StartDate</th>\n",
       "      <th>sex</th>\n",
       "      <th>birth</th>\n",
       "      <th>age</th>\n",
       "    </tr>\n",
       "  </thead>\n",
       "  <tbody>\n",
       "    <tr>\n",
       "      <th>0</th>\n",
       "      <td>0_1518</td>\n",
       "      <td>2022-05-20</td>\n",
       "      <td>s_211425</td>\n",
       "      <td>c_103</td>\n",
       "      <td>4.18</td>\n",
       "      <td>0.0</td>\n",
       "      <td>2022-05</td>\n",
       "      <td>f</td>\n",
       "      <td>1986</td>\n",
       "      <td>36</td>\n",
       "    </tr>\n",
       "    <tr>\n",
       "      <th>1</th>\n",
       "      <td>0_1627</td>\n",
       "      <td>2022-06-18</td>\n",
       "      <td>s_225494</td>\n",
       "      <td>c_103</td>\n",
       "      <td>3.99</td>\n",
       "      <td>0.0</td>\n",
       "      <td>2022-06</td>\n",
       "      <td>f</td>\n",
       "      <td>1986</td>\n",
       "      <td>36</td>\n",
       "    </tr>\n",
       "    <tr>\n",
       "      <th>2</th>\n",
       "      <td>0_1104</td>\n",
       "      <td>2023-02-08</td>\n",
       "      <td>s_338755</td>\n",
       "      <td>c_103</td>\n",
       "      <td>13.21</td>\n",
       "      <td>0.0</td>\n",
       "      <td>2023-02</td>\n",
       "      <td>f</td>\n",
       "      <td>1986</td>\n",
       "      <td>36</td>\n",
       "    </tr>\n",
       "    <tr>\n",
       "      <th>3</th>\n",
       "      <td>0_1390</td>\n",
       "      <td>2021-04-20</td>\n",
       "      <td>s_23078</td>\n",
       "      <td>c_103</td>\n",
       "      <td>19.37</td>\n",
       "      <td>0.0</td>\n",
       "      <td>2021-04</td>\n",
       "      <td>f</td>\n",
       "      <td>1986</td>\n",
       "      <td>36</td>\n",
       "    </tr>\n",
       "    <tr>\n",
       "      <th>4</th>\n",
       "      <td>0_1547</td>\n",
       "      <td>2022-03-15</td>\n",
       "      <td>s_179629</td>\n",
       "      <td>c_103</td>\n",
       "      <td>8.99</td>\n",
       "      <td>0.0</td>\n",
       "      <td>2022-03</td>\n",
       "      <td>f</td>\n",
       "      <td>1986</td>\n",
       "      <td>36</td>\n",
       "    </tr>\n",
       "    <tr>\n",
       "      <th>...</th>\n",
       "      <td>...</td>\n",
       "      <td>...</td>\n",
       "      <td>...</td>\n",
       "      <td>...</td>\n",
       "      <td>...</td>\n",
       "      <td>...</td>\n",
       "      <td>...</td>\n",
       "      <td>...</td>\n",
       "      <td>...</td>\n",
       "      <td>...</td>\n",
       "    </tr>\n",
       "    <tr>\n",
       "      <th>657507</th>\n",
       "      <td>0_1509</td>\n",
       "      <td>2021-05-15</td>\n",
       "      <td>s_34762</td>\n",
       "      <td>c_8114</td>\n",
       "      <td>4.99</td>\n",
       "      <td>0.0</td>\n",
       "      <td>2021-05</td>\n",
       "      <td>m</td>\n",
       "      <td>1962</td>\n",
       "      <td>60</td>\n",
       "    </tr>\n",
       "    <tr>\n",
       "      <th>657508</th>\n",
       "      <td>1_152</td>\n",
       "      <td>2021-11-08</td>\n",
       "      <td>s_116675</td>\n",
       "      <td>c_240</td>\n",
       "      <td>11.06</td>\n",
       "      <td>1.0</td>\n",
       "      <td>2021-11</td>\n",
       "      <td>m</td>\n",
       "      <td>1998</td>\n",
       "      <td>24</td>\n",
       "    </tr>\n",
       "    <tr>\n",
       "      <th>657509</th>\n",
       "      <td>2_207</td>\n",
       "      <td>2021-06-01</td>\n",
       "      <td>s_42418</td>\n",
       "      <td>c_305</td>\n",
       "      <td>50.99</td>\n",
       "      <td>2.0</td>\n",
       "      <td>2021-06</td>\n",
       "      <td>f</td>\n",
       "      <td>1996</td>\n",
       "      <td>26</td>\n",
       "    </tr>\n",
       "    <tr>\n",
       "      <th>657510</th>\n",
       "      <td>1_521</td>\n",
       "      <td>2022-10-18</td>\n",
       "      <td>s_284060</td>\n",
       "      <td>c_305</td>\n",
       "      <td>22.99</td>\n",
       "      <td>1.0</td>\n",
       "      <td>2022-10</td>\n",
       "      <td>f</td>\n",
       "      <td>1996</td>\n",
       "      <td>26</td>\n",
       "    </tr>\n",
       "    <tr>\n",
       "      <th>657511</th>\n",
       "      <td>1_521</td>\n",
       "      <td>2021-12-18</td>\n",
       "      <td>s_135996</td>\n",
       "      <td>c_305</td>\n",
       "      <td>22.99</td>\n",
       "      <td>1.0</td>\n",
       "      <td>2021-12</td>\n",
       "      <td>f</td>\n",
       "      <td>1996</td>\n",
       "      <td>26</td>\n",
       "    </tr>\n",
       "  </tbody>\n",
       "</table>\n",
       "<p>657512 rows × 10 columns</p>\n",
       "</div>"
      ],
      "text/plain": [
       "       id_prod        date session_id client_id  price  categ StartDate sex  \\\n",
       "0       0_1518  2022-05-20   s_211425     c_103   4.18    0.0   2022-05   f   \n",
       "1       0_1627  2022-06-18   s_225494     c_103   3.99    0.0   2022-06   f   \n",
       "2       0_1104  2023-02-08   s_338755     c_103  13.21    0.0   2023-02   f   \n",
       "3       0_1390  2021-04-20    s_23078     c_103  19.37    0.0   2021-04   f   \n",
       "4       0_1547  2022-03-15   s_179629     c_103   8.99    0.0   2022-03   f   \n",
       "...        ...         ...        ...       ...    ...    ...       ...  ..   \n",
       "657507  0_1509  2021-05-15    s_34762    c_8114   4.99    0.0   2021-05   m   \n",
       "657508   1_152  2021-11-08   s_116675     c_240  11.06    1.0   2021-11   m   \n",
       "657509   2_207  2021-06-01    s_42418     c_305  50.99    2.0   2021-06   f   \n",
       "657510   1_521  2022-10-18   s_284060     c_305  22.99    1.0   2022-10   f   \n",
       "657511   1_521  2021-12-18   s_135996     c_305  22.99    1.0   2021-12   f   \n",
       "\n",
       "        birth  age  \n",
       "0        1986   36  \n",
       "1        1986   36  \n",
       "2        1986   36  \n",
       "3        1986   36  \n",
       "4        1986   36  \n",
       "...       ...  ...  \n",
       "657507   1962   60  \n",
       "657508   1998   24  \n",
       "657509   1996   26  \n",
       "657510   1996   26  \n",
       "657511   1996   26  \n",
       "\n",
       "[657512 rows x 10 columns]"
      ]
     },
     "execution_count": 5,
     "metadata": {},
     "output_type": "execute_result"
    }
   ],
   "source": [
    "product_transaction_customer['age'] = 2022 - product_transaction_customer['birth']\n",
    "product_transaction_customer"
   ]
  },
  {
   "cell_type": "markdown",
   "id": "cb9b48c6",
   "metadata": {},
   "source": [
    "    Les tops references"
   ]
  },
  {
   "cell_type": "code",
   "execution_count": 38,
   "id": "66198adc",
   "metadata": {
    "scrolled": true
   },
   "outputs": [
    {
     "data": {
      "text/html": [
       "<div>\n",
       "<style scoped>\n",
       "    .dataframe tbody tr th:only-of-type {\n",
       "        vertical-align: middle;\n",
       "    }\n",
       "\n",
       "    .dataframe tbody tr th {\n",
       "        vertical-align: top;\n",
       "    }\n",
       "\n",
       "    .dataframe thead th {\n",
       "        text-align: right;\n",
       "    }\n",
       "</style>\n",
       "<table border=\"1\" class=\"dataframe\">\n",
       "  <thead>\n",
       "    <tr style=\"text-align: right;\">\n",
       "      <th></th>\n",
       "      <th>id_prod</th>\n",
       "      <th>date</th>\n",
       "      <th>session_id</th>\n",
       "      <th>client_id</th>\n",
       "      <th>price</th>\n",
       "      <th>categ</th>\n",
       "      <th>StartDate</th>\n",
       "      <th>sex</th>\n",
       "      <th>birth</th>\n",
       "      <th>age</th>\n",
       "    </tr>\n",
       "  </thead>\n",
       "  <tbody>\n",
       "    <tr>\n",
       "      <th>13269</th>\n",
       "      <td>2_2</td>\n",
       "      <td>2022-12-07</td>\n",
       "      <td>s_308301</td>\n",
       "      <td>c_4958</td>\n",
       "      <td>300.0</td>\n",
       "      <td>2.0</td>\n",
       "      <td>2022-12</td>\n",
       "      <td>m</td>\n",
       "      <td>1999</td>\n",
       "      <td>23</td>\n",
       "    </tr>\n",
       "    <tr>\n",
       "      <th>14320</th>\n",
       "      <td>2_2</td>\n",
       "      <td>2021-12-07</td>\n",
       "      <td>s_130658</td>\n",
       "      <td>c_4958</td>\n",
       "      <td>300.0</td>\n",
       "      <td>2.0</td>\n",
       "      <td>2021-12</td>\n",
       "      <td>m</td>\n",
       "      <td>1999</td>\n",
       "      <td>23</td>\n",
       "    </tr>\n",
       "    <tr>\n",
       "      <th>15549</th>\n",
       "      <td>2_2</td>\n",
       "      <td>2022-06-07</td>\n",
       "      <td>s_220074</td>\n",
       "      <td>c_4958</td>\n",
       "      <td>300.0</td>\n",
       "      <td>2.0</td>\n",
       "      <td>2022-06</td>\n",
       "      <td>m</td>\n",
       "      <td>1999</td>\n",
       "      <td>23</td>\n",
       "    </tr>\n",
       "  </tbody>\n",
       "</table>\n",
       "</div>"
      ],
      "text/plain": [
       "      id_prod       date session_id client_id  price  categ StartDate sex  \\\n",
       "13269     2_2 2022-12-07   s_308301    c_4958  300.0    2.0   2022-12   m   \n",
       "14320     2_2 2021-12-07   s_130658    c_4958  300.0    2.0   2021-12   m   \n",
       "15549     2_2 2022-06-07   s_220074    c_4958  300.0    2.0   2022-06   m   \n",
       "\n",
       "       birth  age  \n",
       "13269   1999   23  \n",
       "14320   1999   23  \n",
       "15549   1999   23  "
      ]
     },
     "execution_count": 38,
     "metadata": {},
     "output_type": "execute_result"
    }
   ],
   "source": [
    "product_transaction_customer.nlargest(3, ['categ', 'price'])"
   ]
  },
  {
   "cell_type": "code",
   "execution_count": 39,
   "id": "bbeb5245",
   "metadata": {},
   "outputs": [
    {
     "data": {
      "text/html": [
       "<div>\n",
       "<style scoped>\n",
       "    .dataframe tbody tr th:only-of-type {\n",
       "        vertical-align: middle;\n",
       "    }\n",
       "\n",
       "    .dataframe tbody tr th {\n",
       "        vertical-align: top;\n",
       "    }\n",
       "\n",
       "    .dataframe thead th {\n",
       "        text-align: right;\n",
       "    }\n",
       "</style>\n",
       "<table border=\"1\" class=\"dataframe\">\n",
       "  <thead>\n",
       "    <tr style=\"text-align: right;\">\n",
       "      <th></th>\n",
       "      <th>id_prod</th>\n",
       "      <th>date</th>\n",
       "      <th>session_id</th>\n",
       "      <th>client_id</th>\n",
       "      <th>price</th>\n",
       "      <th>categ</th>\n",
       "      <th>StartDate</th>\n",
       "      <th>sex</th>\n",
       "      <th>birth</th>\n",
       "      <th>age</th>\n",
       "    </tr>\n",
       "  </thead>\n",
       "  <tbody>\n",
       "    <tr>\n",
       "      <th>21465</th>\n",
       "      <td>0_202</td>\n",
       "      <td>2021-03-05</td>\n",
       "      <td>s_2176</td>\n",
       "      <td>c_5277</td>\n",
       "      <td>0.62</td>\n",
       "      <td>0.0</td>\n",
       "      <td>2021-03</td>\n",
       "      <td>m</td>\n",
       "      <td>1976</td>\n",
       "      <td>46</td>\n",
       "    </tr>\n",
       "    <tr>\n",
       "      <th>39389</th>\n",
       "      <td>0_528</td>\n",
       "      <td>2021-05-28</td>\n",
       "      <td>s_40833</td>\n",
       "      <td>c_1609</td>\n",
       "      <td>0.62</td>\n",
       "      <td>0.0</td>\n",
       "      <td>2021-05</td>\n",
       "      <td>m</td>\n",
       "      <td>1980</td>\n",
       "      <td>42</td>\n",
       "    </tr>\n",
       "    <tr>\n",
       "      <th>84228</th>\n",
       "      <td>0_528</td>\n",
       "      <td>2021-06-24</td>\n",
       "      <td>s_53240</td>\n",
       "      <td>c_5636</td>\n",
       "      <td>0.62</td>\n",
       "      <td>0.0</td>\n",
       "      <td>2021-06</td>\n",
       "      <td>f</td>\n",
       "      <td>1989</td>\n",
       "      <td>33</td>\n",
       "    </tr>\n",
       "  </tbody>\n",
       "</table>\n",
       "</div>"
      ],
      "text/plain": [
       "      id_prod       date session_id client_id  price  categ StartDate sex  \\\n",
       "21465   0_202 2021-03-05     s_2176    c_5277   0.62    0.0   2021-03   m   \n",
       "39389   0_528 2021-05-28    s_40833    c_1609   0.62    0.0   2021-05   m   \n",
       "84228   0_528 2021-06-24    s_53240    c_5636   0.62    0.0   2021-06   f   \n",
       "\n",
       "       birth  age  \n",
       "21465   1976   46  \n",
       "39389   1980   42  \n",
       "84228   1989   33  "
      ]
     },
     "execution_count": 39,
     "metadata": {},
     "output_type": "execute_result"
    }
   ],
   "source": [
    "product_transaction_customer.nsmallest(3, ['categ', 'price'])"
   ]
  },
  {
   "cell_type": "code",
   "execution_count": 18,
   "id": "f229da94",
   "metadata": {
    "scrolled": false
   },
   "outputs": [
    {
     "data": {
      "text/html": [
       "<div>\n",
       "<style scoped>\n",
       "    .dataframe tbody tr th:only-of-type {\n",
       "        vertical-align: middle;\n",
       "    }\n",
       "\n",
       "    .dataframe tbody tr th {\n",
       "        vertical-align: top;\n",
       "    }\n",
       "\n",
       "    .dataframe thead th {\n",
       "        text-align: right;\n",
       "    }\n",
       "</style>\n",
       "<table border=\"1\" class=\"dataframe\">\n",
       "  <thead>\n",
       "    <tr style=\"text-align: right;\">\n",
       "      <th></th>\n",
       "      <th>id_prod</th>\n",
       "      <th>categ</th>\n",
       "      <th>price</th>\n",
       "    </tr>\n",
       "  </thead>\n",
       "  <tbody>\n",
       "    <tr>\n",
       "      <th>0</th>\n",
       "      <td>0_0</td>\n",
       "      <td>0.0</td>\n",
       "      <td>4477.50</td>\n",
       "    </tr>\n",
       "    <tr>\n",
       "      <th>1</th>\n",
       "      <td>0_1</td>\n",
       "      <td>0.0</td>\n",
       "      <td>5154.31</td>\n",
       "    </tr>\n",
       "    <tr>\n",
       "      <th>2</th>\n",
       "      <td>0_10</td>\n",
       "      <td>0.0</td>\n",
       "      <td>323.10</td>\n",
       "    </tr>\n",
       "    <tr>\n",
       "      <th>3</th>\n",
       "      <td>0_100</td>\n",
       "      <td>0.0</td>\n",
       "      <td>61.80</td>\n",
       "    </tr>\n",
       "    <tr>\n",
       "      <th>4</th>\n",
       "      <td>0_1000</td>\n",
       "      <td>0.0</td>\n",
       "      <td>2790.72</td>\n",
       "    </tr>\n",
       "    <tr>\n",
       "      <th>...</th>\n",
       "      <td>...</td>\n",
       "      <td>...</td>\n",
       "      <td>...</td>\n",
       "    </tr>\n",
       "    <tr>\n",
       "      <th>3258</th>\n",
       "      <td>2_95</td>\n",
       "      <td>2.0</td>\n",
       "      <td>395.96</td>\n",
       "    </tr>\n",
       "    <tr>\n",
       "      <th>3259</th>\n",
       "      <td>2_96</td>\n",
       "      <td>2.0</td>\n",
       "      <td>27835.71</td>\n",
       "    </tr>\n",
       "    <tr>\n",
       "      <th>3260</th>\n",
       "      <td>2_97</td>\n",
       "      <td>2.0</td>\n",
       "      <td>2092.87</td>\n",
       "    </tr>\n",
       "    <tr>\n",
       "      <th>3261</th>\n",
       "      <td>2_98</td>\n",
       "      <td>2.0</td>\n",
       "      <td>149.74</td>\n",
       "    </tr>\n",
       "    <tr>\n",
       "      <th>3262</th>\n",
       "      <td>2_99</td>\n",
       "      <td>2.0</td>\n",
       "      <td>594.93</td>\n",
       "    </tr>\n",
       "  </tbody>\n",
       "</table>\n",
       "<p>3263 rows × 3 columns</p>\n",
       "</div>"
      ],
      "text/plain": [
       "     id_prod  categ     price\n",
       "0        0_0    0.0   4477.50\n",
       "1        0_1    0.0   5154.31\n",
       "2       0_10    0.0    323.10\n",
       "3      0_100    0.0     61.80\n",
       "4     0_1000    0.0   2790.72\n",
       "...      ...    ...       ...\n",
       "3258    2_95    2.0    395.96\n",
       "3259    2_96    2.0  27835.71\n",
       "3260    2_97    2.0   2092.87\n",
       "3261    2_98    2.0    149.74\n",
       "3262    2_99    2.0    594.93\n",
       "\n",
       "[3263 rows x 3 columns]"
      ]
     },
     "execution_count": 18,
     "metadata": {},
     "output_type": "execute_result"
    }
   ],
   "source": [
    "cacateg = product_transaction_customer.groupby(['id_prod','categ'])['price'].sum().reset_index()\n",
    "cacateg"
   ]
  },
  {
   "cell_type": "code",
   "execution_count": 41,
   "id": "f8a7f023",
   "metadata": {},
   "outputs": [],
   "source": [
    "df_sorted = cacateg.groupby(['categ']).apply(lambda x: x.nsmallest(n=3, columns='price')).reset_index(drop=True)"
   ]
  },
  {
   "cell_type": "code",
   "execution_count": 42,
   "id": "783abe0c",
   "metadata": {
    "scrolled": true
   },
   "outputs": [
    {
     "data": {
      "text/html": [
       "<div>\n",
       "<style scoped>\n",
       "    .dataframe tbody tr th:only-of-type {\n",
       "        vertical-align: middle;\n",
       "    }\n",
       "\n",
       "    .dataframe tbody tr th {\n",
       "        vertical-align: top;\n",
       "    }\n",
       "\n",
       "    .dataframe thead th {\n",
       "        text-align: right;\n",
       "    }\n",
       "</style>\n",
       "<table border=\"1\" class=\"dataframe\">\n",
       "  <thead>\n",
       "    <tr style=\"text-align: right;\">\n",
       "      <th></th>\n",
       "      <th>id_prod</th>\n",
       "      <th>categ</th>\n",
       "      <th>price</th>\n",
       "    </tr>\n",
       "  </thead>\n",
       "  <tbody>\n",
       "    <tr>\n",
       "      <th>0</th>\n",
       "      <td>0_1539</td>\n",
       "      <td>0.0</td>\n",
       "      <td>0.99</td>\n",
       "    </tr>\n",
       "    <tr>\n",
       "      <th>1</th>\n",
       "      <td>0_898</td>\n",
       "      <td>0.0</td>\n",
       "      <td>1.27</td>\n",
       "    </tr>\n",
       "    <tr>\n",
       "      <th>2</th>\n",
       "      <td>0_1284</td>\n",
       "      <td>0.0</td>\n",
       "      <td>1.38</td>\n",
       "    </tr>\n",
       "    <tr>\n",
       "      <th>3</th>\n",
       "      <td>1_420</td>\n",
       "      <td>1.0</td>\n",
       "      <td>14.24</td>\n",
       "    </tr>\n",
       "    <tr>\n",
       "      <th>4</th>\n",
       "      <td>1_224</td>\n",
       "      <td>1.0</td>\n",
       "      <td>19.80</td>\n",
       "    </tr>\n",
       "    <tr>\n",
       "      <th>5</th>\n",
       "      <td>1_470</td>\n",
       "      <td>1.0</td>\n",
       "      <td>21.64</td>\n",
       "    </tr>\n",
       "    <tr>\n",
       "      <th>6</th>\n",
       "      <td>2_81</td>\n",
       "      <td>2.0</td>\n",
       "      <td>86.99</td>\n",
       "    </tr>\n",
       "    <tr>\n",
       "      <th>7</th>\n",
       "      <td>2_23</td>\n",
       "      <td>2.0</td>\n",
       "      <td>115.99</td>\n",
       "    </tr>\n",
       "    <tr>\n",
       "      <th>8</th>\n",
       "      <td>2_98</td>\n",
       "      <td>2.0</td>\n",
       "      <td>149.74</td>\n",
       "    </tr>\n",
       "  </tbody>\n",
       "</table>\n",
       "</div>"
      ],
      "text/plain": [
       "  id_prod  categ   price\n",
       "0  0_1539    0.0    0.99\n",
       "1   0_898    0.0    1.27\n",
       "2  0_1284    0.0    1.38\n",
       "3   1_420    1.0   14.24\n",
       "4   1_224    1.0   19.80\n",
       "5   1_470    1.0   21.64\n",
       "6    2_81    2.0   86.99\n",
       "7    2_23    2.0  115.99\n",
       "8    2_98    2.0  149.74"
      ]
     },
     "execution_count": 42,
     "metadata": {},
     "output_type": "execute_result"
    }
   ],
   "source": [
    "df_sorted"
   ]
  },
  {
   "cell_type": "code",
   "execution_count": 19,
   "id": "abc4926a",
   "metadata": {
    "scrolled": true
   },
   "outputs": [
    {
     "data": {
      "text/html": [
       "<div>\n",
       "<style scoped>\n",
       "    .dataframe tbody tr th:only-of-type {\n",
       "        vertical-align: middle;\n",
       "    }\n",
       "\n",
       "    .dataframe tbody tr th {\n",
       "        vertical-align: top;\n",
       "    }\n",
       "\n",
       "    .dataframe thead th {\n",
       "        text-align: right;\n",
       "    }\n",
       "</style>\n",
       "<table border=\"1\" class=\"dataframe\">\n",
       "  <thead>\n",
       "    <tr style=\"text-align: right;\">\n",
       "      <th></th>\n",
       "      <th>id_prod</th>\n",
       "      <th>categ</th>\n",
       "      <th>price</th>\n",
       "    </tr>\n",
       "  </thead>\n",
       "  <tbody>\n",
       "    <tr>\n",
       "      <th>0</th>\n",
       "      <td>0_1441</td>\n",
       "      <td>0.0</td>\n",
       "      <td>22389.21</td>\n",
       "    </tr>\n",
       "    <tr>\n",
       "      <th>1</th>\n",
       "      <td>0_1421</td>\n",
       "      <td>0.0</td>\n",
       "      <td>21809.09</td>\n",
       "    </tr>\n",
       "    <tr>\n",
       "      <th>2</th>\n",
       "      <td>0_1414</td>\n",
       "      <td>0.0</td>\n",
       "      <td>21395.52</td>\n",
       "    </tr>\n",
       "    <tr>\n",
       "      <th>3</th>\n",
       "      <td>1_395</td>\n",
       "      <td>1.0</td>\n",
       "      <td>53950.39</td>\n",
       "    </tr>\n",
       "    <tr>\n",
       "      <th>4</th>\n",
       "      <td>1_369</td>\n",
       "      <td>1.0</td>\n",
       "      <td>53665.63</td>\n",
       "    </tr>\n",
       "    <tr>\n",
       "      <th>5</th>\n",
       "      <td>1_414</td>\n",
       "      <td>1.0</td>\n",
       "      <td>51615.78</td>\n",
       "    </tr>\n",
       "    <tr>\n",
       "      <th>6</th>\n",
       "      <td>2_159</td>\n",
       "      <td>2.0</td>\n",
       "      <td>92265.68</td>\n",
       "    </tr>\n",
       "    <tr>\n",
       "      <th>7</th>\n",
       "      <td>2_135</td>\n",
       "      <td>2.0</td>\n",
       "      <td>67403.23</td>\n",
       "    </tr>\n",
       "    <tr>\n",
       "      <th>8</th>\n",
       "      <td>2_112</td>\n",
       "      <td>2.0</td>\n",
       "      <td>62840.10</td>\n",
       "    </tr>\n",
       "  </tbody>\n",
       "</table>\n",
       "</div>"
      ],
      "text/plain": [
       "  id_prod  categ     price\n",
       "0  0_1441    0.0  22389.21\n",
       "1  0_1421    0.0  21809.09\n",
       "2  0_1414    0.0  21395.52\n",
       "3   1_395    1.0  53950.39\n",
       "4   1_369    1.0  53665.63\n",
       "5   1_414    1.0  51615.78\n",
       "6   2_159    2.0  92265.68\n",
       "7   2_135    2.0  67403.23\n",
       "8   2_112    2.0  62840.10"
      ]
     },
     "execution_count": 19,
     "metadata": {},
     "output_type": "execute_result"
    }
   ],
   "source": [
    "df_sorted_top = cacateg.groupby(['categ']).apply(lambda x: x.nlargest(n=3, columns='price')).reset_index(drop=True)\n",
    "df_sorted_top"
   ]
  },
  {
   "cell_type": "code",
   "execution_count": 24,
   "id": "d5fd72fb",
   "metadata": {},
   "outputs": [
    {
     "data": {
      "image/png": "[encoded data removed]",
      "text/plain": [
       "<Figure size 432x288 with 1 Axes>"
      ]
     },
     "metadata": {},
     "output_type": "display_data"
    }
   ],
   "source": [
    "fig, ax = plt.subplots()\n",
    "\n",
    "sns.barplot(ax = ax, data = df_sorted_top, x = 'id_prod', y = 'price', hue = 'categ')\n",
    "plt.xlabel('Identifiant du produit')\n",
    "plt.ylabel('Le chiffre d''affaire')\n",
    "plt.show()\n"
   ]
  },
  {
   "cell_type": "markdown",
   "id": "2875d5b4",
   "metadata": {},
   "source": [
    "La repartition du chiffre d'affaire entre les clients"
   ]
  },
  {
   "cell_type": "code",
   "execution_count": 45,
   "id": "d38ac493",
   "metadata": {
    "scrolled": false
   },
   "outputs": [
    {
     "data": {
      "text/html": [
       "<div>\n",
       "<style scoped>\n",
       "    .dataframe tbody tr th:only-of-type {\n",
       "        vertical-align: middle;\n",
       "    }\n",
       "\n",
       "    .dataframe tbody tr th {\n",
       "        vertical-align: top;\n",
       "    }\n",
       "\n",
       "    .dataframe thead th {\n",
       "        text-align: right;\n",
       "    }\n",
       "</style>\n",
       "<table border=\"1\" class=\"dataframe\">\n",
       "  <thead>\n",
       "    <tr style=\"text-align: right;\">\n",
       "      <th></th>\n",
       "      <th>client_id</th>\n",
       "      <th>price</th>\n",
       "    </tr>\n",
       "  </thead>\n",
       "  <tbody>\n",
       "    <tr>\n",
       "      <th>0</th>\n",
       "      <td>c_1</td>\n",
       "      <td>550.19</td>\n",
       "    </tr>\n",
       "    <tr>\n",
       "      <th>1</th>\n",
       "      <td>c_10</td>\n",
       "      <td>1353.60</td>\n",
       "    </tr>\n",
       "    <tr>\n",
       "      <th>2</th>\n",
       "      <td>c_100</td>\n",
       "      <td>254.85</td>\n",
       "    </tr>\n",
       "    <tr>\n",
       "      <th>3</th>\n",
       "      <td>c_1000</td>\n",
       "      <td>2209.92</td>\n",
       "    </tr>\n",
       "    <tr>\n",
       "      <th>4</th>\n",
       "      <td>c_1001</td>\n",
       "      <td>1720.08</td>\n",
       "    </tr>\n",
       "    <tr>\n",
       "      <th>...</th>\n",
       "      <td>...</td>\n",
       "      <td>...</td>\n",
       "    </tr>\n",
       "    <tr>\n",
       "      <th>8593</th>\n",
       "      <td>c_995</td>\n",
       "      <td>189.41</td>\n",
       "    </tr>\n",
       "    <tr>\n",
       "      <th>8594</th>\n",
       "      <td>c_996</td>\n",
       "      <td>1611.59</td>\n",
       "    </tr>\n",
       "    <tr>\n",
       "      <th>8595</th>\n",
       "      <td>c_997</td>\n",
       "      <td>1432.02</td>\n",
       "    </tr>\n",
       "    <tr>\n",
       "      <th>8596</th>\n",
       "      <td>c_998</td>\n",
       "      <td>2779.88</td>\n",
       "    </tr>\n",
       "    <tr>\n",
       "      <th>8597</th>\n",
       "      <td>c_999</td>\n",
       "      <td>681.43</td>\n",
       "    </tr>\n",
       "  </tbody>\n",
       "</table>\n",
       "<p>8598 rows × 2 columns</p>\n",
       "</div>"
      ],
      "text/plain": [
       "     client_id    price\n",
       "0          c_1   550.19\n",
       "1         c_10  1353.60\n",
       "2        c_100   254.85\n",
       "3       c_1000  2209.92\n",
       "4       c_1001  1720.08\n",
       "...        ...      ...\n",
       "8593     c_995   189.41\n",
       "8594     c_996  1611.59\n",
       "8595     c_997  1432.02\n",
       "8596     c_998  2779.88\n",
       "8597     c_999   681.43\n",
       "\n",
       "[8598 rows x 2 columns]"
      ]
     },
     "execution_count": 45,
     "metadata": {},
     "output_type": "execute_result"
    }
   ],
   "source": [
    "ca_client = product_transaction_customer.groupby(['client_id'])['price'].sum().reset_index()\n",
    "ca_client"
   ]
  },
  {
   "cell_type": "code",
   "execution_count": 225,
   "id": "0346ab66",
   "metadata": {
    "scrolled": true
   },
   "outputs": [
    {
     "data": {
      "image/png": "[encoded data removed]",
      "text/plain": [
       "<Figure size 432x288 with 1 Axes>"
      ]
     },
     "metadata": {
      "needs_background": "light"
     },
     "output_type": "display_data"
    }
   ],
   "source": [
    "# Btoc = product_transaction_customer.loc[product_transaction_customer['price'] <= 13.99]\n",
    "testlorenz = product_transaction_customer['price'].values\n",
    "n = len(testlorenz)\n",
    "lorenz = np.cumsum(np.sort(testlorenz)) / testlorenz.sum()\n",
    "lorenz = np.append([0],lorenz) # La courbe de Lorenz commence à 0\n",
    "AUC = (lorenz.sum() -lorenz[-1]/2 -lorenz[0]/2)/n # Surface sous la courbe de Lorenz. Le premier segment (lorenz[0]) est à moitié en dessous de 0, on le coupe donc en 2, on fait de même pour le dernier segment lorenz[-1] qui est à moitié au dessus de 1.\n",
    "S = 0.5 - AUC # surface entre la première bissectrice et le courbe de Lorenz\n",
    "gini = 2*S\n",
    "plt.axes().axis('equal')\n",
    "xaxis = np.linspace(0-1/n,1+1/n,n+1) #Il y a un segment de taille n pour chaque individu, plus 1 segment supplémentaire d'ordonnée 0. Le premier segment commence à 0-1/n, et le dernier termine à 1+1/n.\n",
    "plt.plot(xaxis,lorenz,drawstyle='steps-post')\n",
    "# plt.grid(True,linestyle+\"--\")\n",
    "plt.title('repartition des ventes')\n",
    "plt.xlabel('Clients')\n",
    "plt.ylabel('Chiffre d''affaire')\n",
    "plt.plot([0,1],[0,1])\n",
    "plt.show()"
   ]
  },
  {
   "cell_type": "markdown",
   "id": "279fddf5",
   "metadata": {},
   "source": [
    "# Le lien entre le genre d’un client et les catégories des livres achetés"
   ]
  },
  {
   "cell_type": "code",
   "execution_count": 47,
   "id": "c92fe5ad",
   "metadata": {
    "scrolled": false
   },
   "outputs": [
    {
     "data": {
      "image/png": "[encoded data removed]",
      "text/plain": [
       "<Figure size 432x288 with 1 Axes>"
      ]
     },
     "metadata": {},
     "output_type": "display_data"
    }
   ],
   "source": [
    "sns.boxplot(x= product_transaction_customer.categ, y=product_transaction_customer.price, hue=product_transaction_customer.sex, data=product_transaction_customer)\n",
    "\n",
    "plt.show()"
   ]
  },
  {
   "cell_type": "markdown",
   "id": "ca759e1f",
   "metadata": {},
   "source": [
    "## Le test statistique associé"
   ]
  },
  {
   "cell_type": "markdown",
   "id": "dc62cf09",
   "metadata": {},
   "source": [
    "### Le test de chi2"
   ]
  },
  {
   "cell_type": "markdown",
   "id": "9af2f0a6",
   "metadata": {},
   "source": [
    "#### Tableau de contengence"
   ]
  },
  {
   "cell_type": "code",
   "execution_count": 32,
   "id": "75613fd5",
   "metadata": {
    "scrolled": true
   },
   "outputs": [
    {
     "data": {
      "text/html": [
       "<div>\n",
       "<style scoped>\n",
       "    .dataframe tbody tr th:only-of-type {\n",
       "        vertical-align: middle;\n",
       "    }\n",
       "\n",
       "    .dataframe tbody tr th {\n",
       "        vertical-align: top;\n",
       "    }\n",
       "\n",
       "    .dataframe thead th {\n",
       "        text-align: right;\n",
       "    }\n",
       "</style>\n",
       "<table border=\"1\" class=\"dataframe\">\n",
       "  <thead>\n",
       "    <tr style=\"text-align: right;\">\n",
       "      <th>categ</th>\n",
       "      <th>0.0</th>\n",
       "      <th>1.0</th>\n",
       "      <th>2.0</th>\n",
       "      <th>CA</th>\n",
       "    </tr>\n",
       "    <tr>\n",
       "      <th>sex</th>\n",
       "      <th></th>\n",
       "      <th></th>\n",
       "      <th></th>\n",
       "      <th></th>\n",
       "    </tr>\n",
       "  </thead>\n",
       "  <tbody>\n",
       "    <tr>\n",
       "      <th>f</th>\n",
       "      <td>196986</td>\n",
       "      <td>114087</td>\n",
       "      <td>16722</td>\n",
       "      <td>327795</td>\n",
       "    </tr>\n",
       "    <tr>\n",
       "      <th>m</th>\n",
       "      <td>199711</td>\n",
       "      <td>111416</td>\n",
       "      <td>18590</td>\n",
       "      <td>329717</td>\n",
       "    </tr>\n",
       "    <tr>\n",
       "      <th>CA</th>\n",
       "      <td>396697</td>\n",
       "      <td>225503</td>\n",
       "      <td>35312</td>\n",
       "      <td>657512</td>\n",
       "    </tr>\n",
       "  </tbody>\n",
       "</table>\n",
       "</div>"
      ],
      "text/plain": [
       "categ     0.0     1.0    2.0      CA\n",
       "sex                                 \n",
       "f      196986  114087  16722  327795\n",
       "m      199711  111416  18590  329717\n",
       "CA     396697  225503  35312  657512"
      ]
     },
     "execution_count": 32,
     "metadata": {},
     "output_type": "execute_result"
    }
   ],
   "source": [
    "X = \"sex\"\n",
    "Y = \"categ\"\n",
    "cont = product_transaction_customer[[X,Y]].pivot_table(index=X,columns=Y,aggfunc=len,margins=True,margins_name=\"CA\")\n",
    "cont"
   ]
  },
  {
   "cell_type": "markdown",
   "id": "70be88d3",
   "metadata": {},
   "source": [
    "#### Calcul de la P-Value"
   ]
  },
  {
   "cell_type": "code",
   "execution_count": 33,
   "id": "f57fc68e",
   "metadata": {},
   "outputs": [
    {
     "name": "stdout",
     "output_type": "stream",
     "text": [
      "le coeeficient de correlation  1.7797545892014317e-28\n"
     ]
    }
   ],
   "source": [
    "from scipy.stats import chi2_contingency\n",
    "st_chi2, st_p, st_dof, st_exp = chi2_contingency(cont)\n",
    "print('le coeeficient de correlation ',st_p)"
   ]
  },
  {
   "cell_type": "markdown",
   "id": "1cd22d5d",
   "metadata": {},
   "source": [
    "# Conclusion\n",
    "    Hypothese: Est ce qu'il y a un lien entre l'âge et la categorie des livres achetés\n",
    "    \n",
    "    Le P_value etant inferieur à 0.05, cette hypothese n'est pas valide "
   ]
  },
  {
   "cell_type": "markdown",
   "id": "c990851e",
   "metadata": {},
   "source": [
    "# Le lien entre l’âge des clients et le montant total des achats"
   ]
  },
  {
   "cell_type": "code",
   "execution_count": 6,
   "id": "10e7109c",
   "metadata": {
    "scrolled": true
   },
   "outputs": [
    {
     "data": {
      "text/html": [
       "<div>\n",
       "<style scoped>\n",
       "    .dataframe tbody tr th:only-of-type {\n",
       "        vertical-align: middle;\n",
       "    }\n",
       "\n",
       "    .dataframe tbody tr th {\n",
       "        vertical-align: top;\n",
       "    }\n",
       "\n",
       "    .dataframe thead th {\n",
       "        text-align: right;\n",
       "    }\n",
       "</style>\n",
       "<table border=\"1\" class=\"dataframe\">\n",
       "  <thead>\n",
       "    <tr style=\"text-align: right;\">\n",
       "      <th></th>\n",
       "      <th>age</th>\n",
       "      <th>price</th>\n",
       "    </tr>\n",
       "  </thead>\n",
       "  <tbody>\n",
       "    <tr>\n",
       "      <th>0</th>\n",
       "      <td>18</td>\n",
       "      <td>591414.23</td>\n",
       "    </tr>\n",
       "    <tr>\n",
       "      <th>1</th>\n",
       "      <td>19</td>\n",
       "      <td>172831.75</td>\n",
       "    </tr>\n",
       "    <tr>\n",
       "      <th>2</th>\n",
       "      <td>20</td>\n",
       "      <td>178767.19</td>\n",
       "    </tr>\n",
       "    <tr>\n",
       "      <th>3</th>\n",
       "      <td>21</td>\n",
       "      <td>174347.66</td>\n",
       "    </tr>\n",
       "    <tr>\n",
       "      <th>4</th>\n",
       "      <td>22</td>\n",
       "      <td>160555.21</td>\n",
       "    </tr>\n",
       "    <tr>\n",
       "      <th>...</th>\n",
       "      <td>...</td>\n",
       "      <td>...</td>\n",
       "    </tr>\n",
       "    <tr>\n",
       "      <th>71</th>\n",
       "      <td>89</td>\n",
       "      <td>5078.98</td>\n",
       "    </tr>\n",
       "    <tr>\n",
       "      <th>72</th>\n",
       "      <td>90</td>\n",
       "      <td>4803.64</td>\n",
       "    </tr>\n",
       "    <tr>\n",
       "      <th>73</th>\n",
       "      <td>91</td>\n",
       "      <td>2691.19</td>\n",
       "    </tr>\n",
       "    <tr>\n",
       "      <th>74</th>\n",
       "      <td>92</td>\n",
       "      <td>3959.24</td>\n",
       "    </tr>\n",
       "    <tr>\n",
       "      <th>75</th>\n",
       "      <td>93</td>\n",
       "      <td>3197.08</td>\n",
       "    </tr>\n",
       "  </tbody>\n",
       "</table>\n",
       "<p>76 rows × 2 columns</p>\n",
       "</div>"
      ],
      "text/plain": [
       "    age      price\n",
       "0    18  591414.23\n",
       "1    19  172831.75\n",
       "2    20  178767.19\n",
       "3    21  174347.66\n",
       "4    22  160555.21\n",
       "..  ...        ...\n",
       "71   89    5078.98\n",
       "72   90    4803.64\n",
       "73   91    2691.19\n",
       "74   92    3959.24\n",
       "75   93    3197.08\n",
       "\n",
       "[76 rows x 2 columns]"
      ]
     },
     "execution_count": 6,
     "metadata": {},
     "output_type": "execute_result"
    }
   ],
   "source": [
    "customer_Age_montant = product_transaction_customer.groupby('age')['price'].sum().reset_index()\n",
    "customer_Age_montant"
   ]
  },
  {
   "cell_type": "markdown",
   "id": "7fc671f1",
   "metadata": {},
   "source": [
    "## La creation de la tranche d'âge pour une bonne representation sur le boxplot"
   ]
  },
  {
   "cell_type": "code",
   "execution_count": 7,
   "id": "f73bcc6c",
   "metadata": {},
   "outputs": [],
   "source": [
    "bins = [0,18,28,38,48,58,68,78,88,93]\n",
    "customer_Age_montant['tranche'] = pd.cut(customer_Age_montant['age'], bins=bins)"
   ]
  },
  {
   "cell_type": "code",
   "execution_count": 8,
   "id": "b1797f41",
   "metadata": {},
   "outputs": [
    {
     "data": {
      "text/html": [
       "<div>\n",
       "<style scoped>\n",
       "    .dataframe tbody tr th:only-of-type {\n",
       "        vertical-align: middle;\n",
       "    }\n",
       "\n",
       "    .dataframe tbody tr th {\n",
       "        vertical-align: top;\n",
       "    }\n",
       "\n",
       "    .dataframe thead th {\n",
       "        text-align: right;\n",
       "    }\n",
       "</style>\n",
       "<table border=\"1\" class=\"dataframe\">\n",
       "  <thead>\n",
       "    <tr style=\"text-align: right;\">\n",
       "      <th></th>\n",
       "      <th>tranche</th>\n",
       "      <th>price</th>\n",
       "    </tr>\n",
       "  </thead>\n",
       "  <tbody>\n",
       "    <tr>\n",
       "      <th>0</th>\n",
       "      <td>(0, 18]</td>\n",
       "      <td>591414.23</td>\n",
       "    </tr>\n",
       "    <tr>\n",
       "      <th>1</th>\n",
       "      <td>(18, 28]</td>\n",
       "      <td>2213065.27</td>\n",
       "    </tr>\n",
       "    <tr>\n",
       "      <th>2</th>\n",
       "      <td>(28, 38]</td>\n",
       "      <td>2376055.65</td>\n",
       "    </tr>\n",
       "    <tr>\n",
       "      <th>3</th>\n",
       "      <td>(38, 48]</td>\n",
       "      <td>2964660.81</td>\n",
       "    </tr>\n",
       "    <tr>\n",
       "      <th>4</th>\n",
       "      <td>(48, 58]</td>\n",
       "      <td>1803323.22</td>\n",
       "    </tr>\n",
       "    <tr>\n",
       "      <th>5</th>\n",
       "      <td>(58, 68]</td>\n",
       "      <td>945483.73</td>\n",
       "    </tr>\n",
       "    <tr>\n",
       "      <th>6</th>\n",
       "      <td>(68, 78]</td>\n",
       "      <td>428241.44</td>\n",
       "    </tr>\n",
       "    <tr>\n",
       "      <th>7</th>\n",
       "      <td>(78, 88]</td>\n",
       "      <td>190955.46</td>\n",
       "    </tr>\n",
       "    <tr>\n",
       "      <th>8</th>\n",
       "      <td>(88, 93]</td>\n",
       "      <td>19730.13</td>\n",
       "    </tr>\n",
       "  </tbody>\n",
       "</table>\n",
       "</div>"
      ],
      "text/plain": [
       "    tranche       price\n",
       "0   (0, 18]   591414.23\n",
       "1  (18, 28]  2213065.27\n",
       "2  (28, 38]  2376055.65\n",
       "3  (38, 48]  2964660.81\n",
       "4  (48, 58]  1803323.22\n",
       "5  (58, 68]   945483.73\n",
       "6  (68, 78]   428241.44\n",
       "7  (78, 88]   190955.46\n",
       "8  (88, 93]    19730.13"
      ]
     },
     "execution_count": 8,
     "metadata": {},
     "output_type": "execute_result"
    }
   ],
   "source": [
    "customer_Age_montant_tranche = customer_Age_montant.groupby('tranche',as_index=False)['price'].sum()\n",
    "customer_Age_montant_tranche"
   ]
  },
  {
   "cell_type": "markdown",
   "id": "778d59c4",
   "metadata": {},
   "source": [
    "## Un hystogramme qui represente le montant total des achats par tranche d'âge client"
   ]
  },
  {
   "cell_type": "code",
   "execution_count": 9,
   "id": "ef0a1839",
   "metadata": {
    "scrolled": true
   },
   "outputs": [
    {
     "data": {
      "image/png": "[encoded data removed]",
      "text/plain": [
       "<Figure size 432x288 with 1 Axes>"
      ]
     },
     "metadata": {
      "needs_background": "light"
     },
     "output_type": "display_data"
    }
   ],
   "source": [
    "y = np.arange(len(customer_Age_montant_tranche.tranche))\n",
    "plt.bar(y,customer_Age_montant_tranche.price)\n",
    "plt.xticks(y,customer_Age_montant_tranche.tranche)\n",
    "plt.xlabel('La tranche d''âge')\n",
    "plt.ylabel('Le chiffre d''affaire')\n",
    "plt.title('Le montant total des achats par tranche d ''âge')\n",
    "plt.show()"
   ]
  },
  {
   "cell_type": "markdown",
   "id": "363c0b73",
   "metadata": {},
   "source": [
    "## Le test statistique de verification de l'hypothese"
   ]
  },
  {
   "cell_type": "markdown",
   "id": "c88c0a43",
   "metadata": {},
   "source": [
    "### Test de Pearsonr entre l'âge et le montant total des achats"
   ]
  },
  {
   "cell_type": "code",
   "execution_count": 11,
   "id": "48bfba69",
   "metadata": {
    "scrolled": true
   },
   "outputs": [
    {
     "name": "stdout",
     "output_type": "stream",
     "text": [
      "Pearsons correlation: -0.209\n"
     ]
    }
   ],
   "source": [
    "from scipy.stats import pearsonr\n",
    "list1 = product_transaction_customer['age'] \n",
    "list2 = product_transaction_customer['price'] \n",
    "  \n",
    "corr, _ = pearsonr(list1, list2) \n",
    "index=['pearson_coeff','p_value']\n",
    "columns=['resultat_test']\n",
    "\n",
    "print('Pearsons correlation: %.3f' % corr)"
   ]
  },
  {
   "cell_type": "markdown",
   "id": "a4578a54",
   "metadata": {},
   "source": [
    "# Conclusion"
   ]
  },
  {
   "cell_type": "markdown",
   "id": "df91779e",
   "metadata": {},
   "source": [
    "    Hypothese: Est ce qu'il y a un lien entre l'âge des clients et le montant total des achats\n",
    "\n",
    "    Le P_value etant superieur à 0.05, cette hypothese est valide, il n'y a pas de correlation entre l'âge des clients     et le montant total des achats\n",
    "    "
   ]
  },
  {
   "cell_type": "markdown",
   "id": "d3243f1f",
   "metadata": {},
   "source": [
    "# La Frequence d'achat"
   ]
  },
  {
   "cell_type": "code",
   "execution_count": 12,
   "id": "ee0e4347",
   "metadata": {},
   "outputs": [
    {
     "data": {
      "text/html": [
       "<div>\n",
       "<style scoped>\n",
       "    .dataframe tbody tr th:only-of-type {\n",
       "        vertical-align: middle;\n",
       "    }\n",
       "\n",
       "    .dataframe tbody tr th {\n",
       "        vertical-align: top;\n",
       "    }\n",
       "\n",
       "    .dataframe thead th {\n",
       "        text-align: right;\n",
       "    }\n",
       "</style>\n",
       "<table border=\"1\" class=\"dataframe\">\n",
       "  <thead>\n",
       "    <tr style=\"text-align: right;\">\n",
       "      <th></th>\n",
       "      <th>client_id</th>\n",
       "      <th>session_id</th>\n",
       "    </tr>\n",
       "  </thead>\n",
       "  <tbody>\n",
       "    <tr>\n",
       "      <th>0</th>\n",
       "      <td>c_1</td>\n",
       "      <td>38</td>\n",
       "    </tr>\n",
       "    <tr>\n",
       "      <th>1</th>\n",
       "      <td>c_10</td>\n",
       "      <td>58</td>\n",
       "    </tr>\n",
       "    <tr>\n",
       "      <th>2</th>\n",
       "      <td>c_100</td>\n",
       "      <td>8</td>\n",
       "    </tr>\n",
       "    <tr>\n",
       "      <th>3</th>\n",
       "      <td>c_1000</td>\n",
       "      <td>122</td>\n",
       "    </tr>\n",
       "    <tr>\n",
       "      <th>4</th>\n",
       "      <td>c_1001</td>\n",
       "      <td>96</td>\n",
       "    </tr>\n",
       "    <tr>\n",
       "      <th>...</th>\n",
       "      <td>...</td>\n",
       "      <td>...</td>\n",
       "    </tr>\n",
       "    <tr>\n",
       "      <th>8593</th>\n",
       "      <td>c_995</td>\n",
       "      <td>14</td>\n",
       "    </tr>\n",
       "    <tr>\n",
       "      <th>8594</th>\n",
       "      <td>c_996</td>\n",
       "      <td>94</td>\n",
       "    </tr>\n",
       "    <tr>\n",
       "      <th>8595</th>\n",
       "      <td>c_997</td>\n",
       "      <td>58</td>\n",
       "    </tr>\n",
       "    <tr>\n",
       "      <th>8596</th>\n",
       "      <td>c_998</td>\n",
       "      <td>53</td>\n",
       "    </tr>\n",
       "    <tr>\n",
       "      <th>8597</th>\n",
       "      <td>c_999</td>\n",
       "      <td>44</td>\n",
       "    </tr>\n",
       "  </tbody>\n",
       "</table>\n",
       "<p>8598 rows × 2 columns</p>\n",
       "</div>"
      ],
      "text/plain": [
       "     client_id  session_id\n",
       "0          c_1          38\n",
       "1         c_10          58\n",
       "2        c_100           8\n",
       "3       c_1000         122\n",
       "4       c_1001          96\n",
       "...        ...         ...\n",
       "8593     c_995          14\n",
       "8594     c_996          94\n",
       "8595     c_997          58\n",
       "8596     c_998          53\n",
       "8597     c_999          44\n",
       "\n",
       "[8598 rows x 2 columns]"
      ]
     },
     "execution_count": 12,
     "metadata": {},
     "output_type": "execute_result"
    }
   ],
   "source": [
    "frequence_achat = product_transaction_customer.groupby('client_id',as_index=False)['session_id'].count()\n",
    "frequence_achat"
   ]
  },
  {
   "cell_type": "markdown",
   "id": "c9c194ac",
   "metadata": {},
   "source": [
    "# La taille du panier moyen et les catégories des livres achetés"
   ]
  },
  {
   "cell_type": "code",
   "execution_count": 7,
   "id": "d663d220",
   "metadata": {
    "scrolled": true
   },
   "outputs": [
    {
     "data": {
      "text/html": [
       "<div>\n",
       "<style scoped>\n",
       "    .dataframe tbody tr th:only-of-type {\n",
       "        vertical-align: middle;\n",
       "    }\n",
       "\n",
       "    .dataframe tbody tr th {\n",
       "        vertical-align: top;\n",
       "    }\n",
       "\n",
       "    .dataframe thead th {\n",
       "        text-align: right;\n",
       "    }\n",
       "</style>\n",
       "<table border=\"1\" class=\"dataframe\">\n",
       "  <thead>\n",
       "    <tr style=\"text-align: right;\">\n",
       "      <th></th>\n",
       "      <th>categ</th>\n",
       "      <th>price</th>\n",
       "    </tr>\n",
       "  </thead>\n",
       "  <tbody>\n",
       "    <tr>\n",
       "      <th>0</th>\n",
       "      <td>0.0</td>\n",
       "      <td>10.639052</td>\n",
       "    </tr>\n",
       "    <tr>\n",
       "      <th>1</th>\n",
       "      <td>1.0</td>\n",
       "      <td>20.487357</td>\n",
       "    </tr>\n",
       "    <tr>\n",
       "      <th>2</th>\n",
       "      <td>2.0</td>\n",
       "      <td>76.248568</td>\n",
       "    </tr>\n",
       "  </tbody>\n",
       "</table>\n",
       "</div>"
      ],
      "text/plain": [
       "   categ      price\n",
       "0    0.0  10.639052\n",
       "1    1.0  20.487357\n",
       "2    2.0  76.248568"
      ]
     },
     "execution_count": 7,
     "metadata": {},
     "output_type": "execute_result"
    }
   ],
   "source": [
    "panierMoyen = product_transaction_customer.groupby('categ',as_index=False)['price'].mean()\n",
    "panierMoyen"
   ]
  },
  {
   "cell_type": "code",
   "execution_count": 392,
   "id": "e83df3f0",
   "metadata": {
    "scrolled": true
   },
   "outputs": [
    {
     "data": {
      "image/png": "[encoded data removed]",
      "text/plain": [
       "<Figure size 432x288 with 1 Axes>"
      ]
     },
     "metadata": {},
     "output_type": "display_data"
    }
   ],
   "source": [
    "panierMoyen.plot(kind='bar',width=0.1)\n",
    "plt.show()\n"
   ]
  },
  {
   "cell_type": "markdown",
   "id": "4ef66771",
   "metadata": {},
   "source": [
    "## Les test de correlation"
   ]
  },
  {
   "cell_type": "markdown",
   "id": "4d2c1c04",
   "metadata": {},
   "source": [
    "### Test de Pearsonr entre la categorie et le prix"
   ]
  },
  {
   "cell_type": "code",
   "execution_count": 19,
   "id": "fa081b22",
   "metadata": {},
   "outputs": [
    {
     "name": "stdout",
     "output_type": "stream",
     "text": [
      "Pearsons correlation: 0.670\n"
     ]
    }
   ],
   "source": [
    "list1 = product_transaction_customer['categ'] \n",
    "list2 = product_transaction_customer['price'] \n",
    "  \n",
    "corr, _ = pearsonr(list1, list2) \n",
    "index=['pearson_coeff','p_value']\n",
    "columns=['resultat_test']\n",
    "\n",
    "print('Pearsons correlation: %.3f' % corr)"
   ]
  },
  {
   "cell_type": "markdown",
   "id": "d4e3b681",
   "metadata": {},
   "source": [
    "# Conclusion\n",
    "    Hypothese: Est ce qu'il y a un lien entre les categories de livres achetés et la taille du panier moyen\n",
    "    \n",
    "    Le P_value etant superieur à 0.05, cette hypothese est valide, il y a une correlation entre le panier moyen et les categories de livres achetés "
   ]
  },
  {
   "cell_type": "code",
   "execution_count": null,
   "id": "e85a3e75",
   "metadata": {},
   "outputs": [],
   "source": []
  }
 ],
 "metadata": {
  "kernelspec": {
   "display_name": "Python 3 (ipykernel)",
   "language": "python",
   "name": "python3"
  },
  "language_info": {
   "codemirror_mode": {
    "name": "ipython",
    "version": 3
   },
   "file_extension": ".py",
   "mimetype": "text/x-python",
   "name": "python",
   "nbconvert_exporter": "python",
   "pygments_lexer": "ipython3",
   "version": "3.9.12"
  }
 },
 "nbformat": 4,
 "nbformat_minor": 5
}
